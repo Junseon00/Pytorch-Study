{
  "cells": [
    {
      "cell_type": "markdown",
      "metadata": {
        "id": "view-in-github",
        "colab_type": "text"
      },
      "source": [
        "<a href=\"https://colab.research.google.com/github/Junseon00/Pytorch-Study/blob/main/ai504_01_numpy.ipynb\" target=\"_parent\"><img src=\"https://colab.research.google.com/assets/colab-badge.svg\" alt=\"Open In Colab\"/></a>"
      ]
    },
    {
      "cell_type": "code",
      "execution_count": null,
      "metadata": {
        "id": "t7cm6-Q4OSz0"
      },
      "outputs": [],
      "source": [
        "import numpy as np"
      ]
    },
    {
      "cell_type": "code",
      "execution_count": null,
      "metadata": {
        "id": "E--VggRrOSz_"
      },
      "outputs": [],
      "source": [
        "def print_obj(obj, name):\n",
        "    print(\"%s:\\n%s\\n\" % (name, obj))\n",
        "    \n",
        "def check_each(a, b):\n",
        "    return (a == b).astype('bool')\n",
        "\n",
        "def check_mean(a, b):\n",
        "    return np.mean(a == b).astype('bool')"
      ]
    },
    {
      "cell_type": "markdown",
      "metadata": {
        "id": "r6V75AXFOS0D"
      },
      "source": [
        "### Scalars, Vectors, Matrices"
      ]
    },
    {
      "cell_type": "code",
      "execution_count": null,
      "metadata": {
        "id": "qCkg3YoxOS0O"
      },
      "outputs": [],
      "source": [
        "a = np.array(1.)\n",
        "b = np.array([1., 2., 3.])\n",
        "c = np.array([[1., 2., 3.], [4., 5., 6.]])"
      ]
    },
    {
      "cell_type": "code",
      "execution_count": null,
      "metadata": {
        "id": "xIUnXL1iOS0S",
        "outputId": "b57734a9-a760-4b0d-ca42-c3a92138ae7e"
      },
      "outputs": [
        {
          "output_type": "stream",
          "name": "stdout",
          "text": [
            "a:\n1.0\n\nb:\n[1. 2. 3.]\n\nc:\n[[1. 2. 3.]\n [4. 5. 6.]]\n\n"
          ]
        }
      ],
      "source": [
        "print_obj(a, \"a\")\n",
        "print_obj(b, \"b\")\n",
        "print_obj(c, \"c\")"
      ]
    },
    {
      "cell_type": "code",
      "execution_count": null,
      "metadata": {
        "id": "6XQFXN6MOS0V",
        "outputId": "a03ffc1d-7255-4cad-fe30-1718eb4b0b95"
      },
      "outputs": [
        {
          "output_type": "stream",
          "name": "stdout",
          "text": [
            "a.ndim:\n0\n\nb.ndim:\n1\n\nc.ndim:\n2\n\n"
          ]
        }
      ],
      "source": [
        "print_obj(a.ndim, \"a.ndim\")\n",
        "print_obj(b.ndim, \"b.ndim\")\n",
        "print_obj(c.ndim, \"c.ndim\")"
      ]
    },
    {
      "cell_type": "code",
      "execution_count": null,
      "metadata": {
        "id": "Y5db1iTqOS0X",
        "outputId": "698157e6-6d68-426b-8352-f27fc8635f4a"
      },
      "outputs": [
        {
          "output_type": "stream",
          "name": "stdout",
          "text": [
            "a.shape:\n()\n\nb.shape:\n(3,)\n\nc.shape:\n(2, 3)\n\nc.shape[0]:\n2\n\n"
          ]
        }
      ],
      "source": [
        "print_obj(a.shape, \"a.shape\")\n",
        "print_obj(b.shape, \"b.shape\")\n",
        "print_obj(c.shape, \"c.shape\")\n",
        "print_obj(c.shape[0], \"c.shape[0]\")"
      ]
    },
    {
      "cell_type": "markdown",
      "metadata": {
        "id": "ZR4dBPHuOS0c"
      },
      "source": [
        "### Tensors (N-dimensional array)"
      ]
    },
    {
      "cell_type": "code",
      "execution_count": null,
      "metadata": {
        "id": "b4P9SXFCOS0f"
      },
      "outputs": [],
      "source": [
        "d = np.array([[[1., 2., 3.], [4., 5., 6.]], [[7., 8., 9.], [10., 11., 12.]]])\n",
        "e = np.array([[[[1., 2., 3.], [1., 2., 3.]], [[4., 5., 6.], [4., 5., 6.]]],\n",
        "              [[[7., 8., 9.], [7., 8., 9.]], [[10., 11., 12.], [10., 11., 12.]]]])"
      ]
    },
    {
      "cell_type": "code",
      "execution_count": null,
      "metadata": {
        "id": "0VemVjtwOS0i",
        "outputId": "877687d9-a2ac-4a29-cccc-2f4895dcf31d"
      },
      "outputs": [
        {
          "name": "stdout",
          "output_type": "stream",
          "text": [
            "d:\n",
            "[[[ 1.  2.  3.]\n",
            "  [ 4.  5.  6.]]\n",
            "\n",
            " [[ 7.  8.  9.]\n",
            "  [10. 11. 12.]]]\n",
            "\n",
            "d.ndim:\n",
            "3\n",
            "\n",
            "d.shape:\n",
            "(2, 2, 3)\n",
            "\n",
            "e:\n",
            "[[[[ 1.  2.  3.]\n",
            "   [ 1.  2.  3.]]\n",
            "\n",
            "  [[ 4.  5.  6.]\n",
            "   [ 4.  5.  6.]]]\n",
            "\n",
            "\n",
            " [[[ 7.  8.  9.]\n",
            "   [ 7.  8.  9.]]\n",
            "\n",
            "  [[10. 11. 12.]\n",
            "   [10. 11. 12.]]]]\n",
            "\n",
            "e.ndim:\n",
            "4\n",
            "\n",
            "e.shape:\n",
            "(2, 2, 2, 3)\n",
            "\n"
          ]
        }
      ],
      "source": [
        "print_obj(d, \"d\")\n",
        "print_obj(d.ndim, \"d.ndim\")\n",
        "print_obj(d.shape, \"d.shape\")\n",
        "\n",
        "print_obj(e, \"e\")\n",
        "print_obj(e.ndim, \"e.ndim\")\n",
        "print_obj(e.shape, \"e.shape\")"
      ]
    },
    {
      "cell_type": "code",
      "execution_count": null,
      "metadata": {
        "colab": {
          "base_uri": "https://localhost:8080/"
        },
        "id": "7yWeVUkYOS0k",
        "outputId": "18aca262-a5df-437e-ad32-0c69a3ba5269"
      },
      "outputs": [
        {
          "output_type": "stream",
          "name": "stdout",
          "text": [
            "(2, 3, 1)\n"
          ]
        }
      ],
      "source": [
        "# Quiz: What is the shape of [[[1], [2], [3]], [[4], [5], [6]]]?\n",
        "q1 = np.array([[[1], [2], [3]], [[4], [5], [6]]])\n",
        "print(q1.shape)"
      ]
    },
    {
      "cell_type": "markdown",
      "metadata": {
        "id": "WYSEtjh1OS0l"
      },
      "source": [
        "### Defining Numpy arrays"
      ]
    },
    {
      "cell_type": "code",
      "execution_count": null,
      "metadata": {
        "id": "oexjzjQaOS0m",
        "outputId": "526ecdaa-d9f5-485b-8c3b-2e9d794f0ec8"
      },
      "outputs": [
        {
          "data": {
            "text/plain": [
              "array([1., 1., 1., 1., 1., 1., 1., 1., 1., 1.])"
            ]
          },
          "execution_count": 13,
          "metadata": {},
          "output_type": "execute_result"
        }
      ],
      "source": [
        "a = np.ones(10)\n",
        "a"
      ]
    },
    {
      "cell_type": "code",
      "execution_count": null,
      "metadata": {
        "id": "baJvbUCVOS0o",
        "outputId": "5a1625f1-969c-411b-eae0-fb61b48c3f4d"
      },
      "outputs": [
        {
          "data": {
            "text/plain": [
              "array([[0., 0., 0., 0., 0.],\n",
              "       [0., 0., 0., 0., 0.]])"
            ]
          },
          "execution_count": 14,
          "metadata": {},
          "output_type": "execute_result"
        }
      ],
      "source": [
        "a = np.zeros((2, 5))\n",
        "a"
      ]
    },
    {
      "cell_type": "code",
      "execution_count": null,
      "metadata": {
        "id": "Lhr5i-BIOS0p",
        "outputId": "1aad5fce-3a5d-45e8-e35f-2dda307baed7"
      },
      "outputs": [
        {
          "data": {
            "text/plain": [
              "array([[5, 5, 5, 5, 5],\n",
              "       [5, 5, 5, 5, 5]])"
            ]
          },
          "execution_count": 15,
          "metadata": {},
          "output_type": "execute_result"
        }
      ],
      "source": [
        "a = np.full((2,5), 5)\n",
        "a"
      ]
    },
    {
      "cell_type": "code",
      "execution_count": null,
      "metadata": {
        "id": "mbOGOxw3OS0r",
        "outputId": "b8800c63-a30e-4f04-bef3-7abc540deb89"
      },
      "outputs": [
        {
          "data": {
            "text/plain": [
              "array([[[0.55076437, 0.72616038, 0.63231988, 0.84112067],\n",
              "        [0.28234531, 0.27197892, 0.17714034, 0.11716613],\n",
              "        [0.03799434, 0.38838445, 0.0266961 , 0.76688518]],\n",
              "\n",
              "       [[0.57271391, 0.92039771, 0.50670521, 0.25397612],\n",
              "        [0.10859892, 0.18053662, 0.99031194, 0.24251977],\n",
              "        [0.29501449, 0.03577463, 0.8706299 , 0.42076041]]])"
            ]
          },
          "execution_count": 16,
          "metadata": {},
          "output_type": "execute_result"
        }
      ],
      "source": [
        "a = np.random.random((2, 3, 4))\n",
        "a"
      ]
    },
    {
      "cell_type": "code",
      "execution_count": null,
      "metadata": {
        "id": "loNqs_5DOS0t",
        "outputId": "1b831c50-4c74-49f6-b9ca-22c1e52ed03b"
      },
      "outputs": [
        {
          "data": {
            "text/plain": [
              "array([0, 1, 2, 3, 4, 5, 6, 7, 8, 9])"
            ]
          },
          "execution_count": 17,
          "metadata": {},
          "output_type": "execute_result"
        }
      ],
      "source": [
        "a = np.arange(10)\n",
        "a"
      ]
    },
    {
      "cell_type": "code",
      "execution_count": null,
      "metadata": {
        "id": "M72dfhDIOS0v",
        "outputId": "2a00db99-5a3c-4aa4-ebbe-eac148bf416f"
      },
      "outputs": [
        {
          "data": {
            "text/plain": [
              "array([0., 1., 2., 3., 4., 5., 6., 7., 8., 9.])"
            ]
          },
          "execution_count": 18,
          "metadata": {},
          "output_type": "execute_result"
        }
      ],
      "source": [
        "a = np.arange(10).astype(float)\n",
        "a"
      ]
    },
    {
      "cell_type": "code",
      "execution_count": null,
      "metadata": {
        "id": "PSYaACIGOS0y",
        "outputId": "b91b2454-fc08-45c7-a841-b8d9a2da495c"
      },
      "outputs": [
        {
          "data": {
            "text/plain": [
              "array([[0, 1],\n",
              "       [2, 3],\n",
              "       [4, 5],\n",
              "       [6, 7],\n",
              "       [8, 9]])"
            ]
          },
          "execution_count": 19,
          "metadata": {},
          "output_type": "execute_result"
        }
      ],
      "source": [
        "a = np.arange(10).reshape((5,2))\n",
        "a"
      ]
    },
    {
      "cell_type": "code",
      "execution_count": null,
      "metadata": {
        "id": "EFwX3cE1OS0z",
        "outputId": "a9aa6656-0da2-43ec-a0de-ae8ae3fd0c8c"
      },
      "outputs": [
        {
          "data": {
            "text/plain": [
              "array([[[ 0,  1],\n",
              "        [ 2,  3],\n",
              "        [ 4,  5]],\n",
              "\n",
              "       [[ 6,  7],\n",
              "        [ 8,  9],\n",
              "        [10, 11]],\n",
              "\n",
              "       [[12, 13],\n",
              "        [14, 15],\n",
              "        [16, 17]],\n",
              "\n",
              "       [[18, 19],\n",
              "        [20, 21],\n",
              "        [22, 23]]])"
            ]
          },
          "execution_count": 27,
          "metadata": {},
          "output_type": "execute_result"
        }
      ],
      "source": [
        "# Quiz: Create a 4-by-3-by-2 tensor filled with 0.0 to 23.0\n",
        "q2 = np.arange(24).reshape((4,3,2))\n",
        "q2"
      ]
    },
    {
      "cell_type": "markdown",
      "metadata": {
        "id": "QhSkfsSoOS00"
      },
      "source": [
        "### Indexing & Slicing"
      ]
    },
    {
      "cell_type": "code",
      "execution_count": null,
      "metadata": {
        "id": "gaB0b5o3OS00",
        "outputId": "25da7499-9619-42e3-913a-cdc018de2d56"
      },
      "outputs": [
        {
          "output_type": "stream",
          "name": "stdout",
          "text": [
            "a:\n[0 1 2 3 4 5 6 7 8 9]\n\na[0]:\n0\n\na[1]:\n1\n\na[-1]:\n9\n\na[-3]:\n7\n\na[0:10]:\n[0 1 2 3 4 5 6 7 8 9]\n\na[0:]:\n[0 1 2 3 4 5 6 7 8 9]\n\na[:10]:\n[0 1 2 3 4 5 6 7 8 9]\n\na[:]:\n[0 1 2 3 4 5 6 7 8 9]\n\na[7:]:\n[7 8 9]\n\na[:5]:\n[0 1 2 3 4]\n\na[2:5]:\n[2 3 4]\n\na[-4:]:\n[6 7 8 9]\n\na[:-8]:\n[0 1]\n\na[0:10:2]:\n[0 2 4 6 8]\n\na[0:10:3]:\n[0 3 6 9]\n\na[2:6:3]:\n[2 5]\n\na[::-1]:\n[9 8 7 6 5 4 3 2 1 0]\n\na[8:5:-1]:\n[8 7 6]\n\na[8:5]:\n[]\n\n[9 6 3]\n[9 6 3]\n[9 6 3]\n"
          ]
        }
      ],
      "source": [
        "# Indexing and slicing a vector\n",
        "a = np.arange(10)\n",
        "print_obj(a, \"a\")\n",
        "\n",
        "print_obj(a[0], \"a[0]\")\n",
        "print_obj(a[1], \"a[1]\")\n",
        "print_obj(a[-1], \"a[-1]\")\n",
        "print_obj(a[-3], \"a[-3]\")\n",
        "\n",
        "print_obj(a[0:10], \"a[0:10]\")\n",
        "print_obj(a[0:], \"a[0:]\")\n",
        "print_obj(a[:10], \"a[:10]\")\n",
        "print_obj(a[:], \"a[:]\")\n",
        "\n",
        "print_obj(a[7:], \"a[7:]\")\n",
        "print_obj(a[:5], \"a[:5]\")\n",
        "print_obj(a[2:5], \"a[2:5]\")\n",
        "\n",
        "# Quiz: What is a[-4:]?\n",
        "print_obj(a[-4:], \"a[-4:]\")\n",
        "# Quiz: What is a[:-8]?\n",
        "print_obj(a[:-8], \"a[:-8]\")\n",
        "\n",
        "print_obj(a[0:10:2], \"a[0:10:2]\")\n",
        "print_obj(a[0:10:3], \"a[0:10:3]\")\n",
        "print_obj(a[2:6:3], \"a[2:6:3]\")\n",
        "\n",
        "print_obj(a[::-1], \"a[::-1]\")\n",
        "print_obj(a[8:5:-1], \"a[8:5:-1]\")\n",
        "print_obj(a[8:5], \"a[8:5]\")\n",
        "\n",
        "# Quiz: Create [9, 6, 3] using a.\n",
        "print(a[-1:-9:-3])\n",
        "#Solution\n",
        "print(a[-1:1:-3])\n",
        "print(a[9:2:-3])"
      ]
    },
    {
      "cell_type": "code",
      "execution_count": null,
      "metadata": {
        "id": "t_CIYj5BOS02",
        "outputId": "0d4cc04b-1dbc-4616-8b5c-f7d1ac6a3542"
      },
      "outputs": [
        {
          "output_type": "stream",
          "name": "stdout",
          "text": [
            "a:\n[[0 1 2]\n [3 4 5]\n [6 7 8]]\n\na[0][0]:\n0\n\na[0,0]:\n0\n\na[1,1]:\n4\n\n[6 7 8]\n[6 7 8]\n[1 4 7]\n[8, 5]\n[8 5]\n"
          ]
        }
      ],
      "source": [
        "# Indexing a matrix\n",
        "a = np.arange(9).reshape((3,3))\n",
        "print_obj(a, \"a\")\n",
        "print_obj(a[0][0], \"a[0][0]\")\n",
        "print_obj(a[0,0], \"a[0,0]\")\n",
        "print_obj(a[1,1], \"a[1,1]\")\n",
        "\n",
        "# Quiz: How to access the last row?\n",
        "print(a[-1][:])\n",
        "#Solution\n",
        "print(a[-1,:])\n",
        "\n",
        "# Quiz: How to access the second column?\n",
        "print(a[:,1])\n",
        "\n",
        "# Quiz: How to create [8, 5] using a?\n",
        "print([a[2,2], a[1,2]])\n",
        "#Solution\n",
        "print(a[2:0:-1, 2])"
      ]
    },
    {
      "cell_type": "code",
      "execution_count": null,
      "metadata": {
        "id": "bfLosQZROS03",
        "outputId": "dbdd38d5-5f6a-4150-97a9-c4504eabc71d"
      },
      "outputs": [
        {
          "output_type": "stream",
          "name": "stdout",
          "text": [
            "a:\n[[[ 0  1]\n  [ 2  3]\n  [ 4  5]]\n\n [[ 6  7]\n  [ 8  9]\n  [10 11]]\n\n [[12 13]\n  [14 15]\n  [16 17]]\n\n [[18 19]\n  [20 21]\n  [22 23]]]\n\na[2, 1, 0]:\n14\n\na[0]:\n[[0 1]\n [2 3]\n [4 5]]\n\na[0,1]:\n[2 3]\n\n[[ 0  2  4]\n [ 6  8 10]]\n[[ 0  2  4]\n [ 6  8 10]]\n"
          ]
        }
      ],
      "source": [
        "# Indexing and slicing a 3D tensor\n",
        "a = np.arange(4*3*2).reshape((4, 3, 2))\n",
        "print_obj(a, \"a\")\n",
        "print_obj(a[2, 1, 0], \"a[2, 1, 0]\")\n",
        "\n",
        "# Quiz: What would be a[0]?\n",
        "print_obj(a[0], \"a[0]\")\n",
        "# Quiz: What would be a[0, 1]?\n",
        "print_obj(a[0,1], \"a[0,1]\")\n",
        "# Quiz: Create [[0, 2, 4], [6, 8, 10]]\n",
        "print(a[0:2,:,0])\n",
        "#Solution\n",
        "print(a[:2,:,0])"
      ]
    },
    {
      "cell_type": "code",
      "execution_count": null,
      "metadata": {
        "colab": {
          "base_uri": "https://localhost:8080/"
        },
        "id": "L5dhAPxYOS04",
        "outputId": "8aaa74bb-6c6e-461b-96f4-50db0eb8d251"
      },
      "outputs": [
        {
          "output_type": "stream",
          "name": "stdout",
          "text": [
            "a:\n",
            "[[0 1]\n",
            " [2 3]\n",
            " [4 5]]\n",
            "\n",
            "idx:\n",
            "[[ True False]\n",
            " [ True False]\n",
            " [ True False]]\n",
            "\n",
            "[0 2 4]\n",
            "idx_2:\n",
            "[[False False]\n",
            " [False  True]\n",
            " [ True  True]]\n",
            "\n"
          ]
        },
        {
          "output_type": "execute_result",
          "data": {
            "text/plain": [
              "array([3, 4, 5])"
            ]
          },
          "metadata": {},
          "execution_count": 8
        }
      ],
      "source": [
        "# Conditional indexing\n",
        "a = np.arange(3*2).reshape((3,2))\n",
        "print_obj(a, \"a\")\n",
        "\n",
        "idx = a % 2 == 0\n",
        "print_obj(idx, \"idx\")\n",
        "print(a[idx])\n",
        "\n",
        "# Quiz: How would you create [3, 4, 5] using a?\n",
        "idx_2 = a >= 3\n",
        "print_obj(idx_2, \"idx_2\")\n",
        "a[idx_2]"
      ]
    },
    {
      "cell_type": "code",
      "execution_count": null,
      "metadata": {
        "id": "LCJ0WT1ROS06",
        "outputId": "93bc1155-a167-4dc1-8713-05989a91c33a"
      },
      "outputs": [
        {
          "output_type": "stream",
          "name": "stdout",
          "text": [
            "a[idx]:\n[0 2 3]\n\n"
          ]
        }
      ],
      "source": [
        "# Taking specific elements from a vector\n",
        "a = np.arange(10)\n",
        "idx = [0, 2, 3]\n",
        "print_obj(a[idx], \"a[idx]\")"
      ]
    },
    {
      "cell_type": "code",
      "execution_count": null,
      "metadata": {
        "colab": {
          "base_uri": "https://localhost:8080/"
        },
        "id": "xnH-WVk8OS08",
        "outputId": "20f76dc3-0e65-4707-93d7-842507c47de1"
      },
      "outputs": [
        {
          "output_type": "stream",
          "name": "stdout",
          "text": [
            "a:\n",
            "[[ 0  1  2  3]\n",
            " [ 4  5  6  7]\n",
            " [ 8  9 10 11]\n",
            " [12 13 14 15]\n",
            " [16 17 18 19]\n",
            " [20 21 22 23]]\n",
            "\n",
            "a[idx]:\n",
            "[[ 0  2  3]\n",
            " [ 4  6  7]\n",
            " [ 8 10 11]\n",
            " [12 14 15]\n",
            " [16 18 19]\n",
            " [20 22 23]]\n",
            "\n",
            "a[idx]:\n",
            "[[ 0  1  2  3]\n",
            " [ 8  9 10 11]\n",
            " [12 13 14 15]]\n",
            "\n",
            "tuple indexing:\n",
            "[ 1  2  4 23]\n",
            "\n",
            "ndarray indexing:\n",
            "[[[ 0  1  2  3]\n",
            "  [ 0  1  2  3]\n",
            "  [ 4  5  6  7]\n",
            "  [20 21 22 23]]\n",
            "\n",
            " [[ 4  5  6  7]\n",
            "  [ 8  9 10 11]\n",
            "  [ 0  1  2  3]\n",
            "  [12 13 14 15]]]\n",
            "\n"
          ]
        }
      ],
      "source": [
        "# Taking specific elements from a tensor\n",
        "a = np.arange(24).reshape((6,4))\n",
        "print_obj(a, \"a\")\n",
        "\n",
        "print_obj(a[:,[0, 2, 3]], \"a[idx]\")\n",
        "print_obj(a[[0, 2, 3], :], \"a[idx]\")\n",
        "\n",
        "idx = ((0,0,1,5),(1,2,0,3))\n",
        "print_obj(a[idx], \"tuple indexing\")\n",
        "\n",
        "idx = np.array([[0,0,1,5],[1,2,0,3]])\n",
        "print_obj(a[idx], \"ndarray indexing\")\n",
        "\n",
        "#idx = np.array([[:,0],[:,0],[:,1],[:,5]],[[:,1],[:,2],[:,0],[:,3]]])"
      ]
    },
    {
      "cell_type": "markdown",
      "metadata": {
        "id": "7DCT2NalOS0-"
      },
      "source": [
        "### Math Operations"
      ]
    },
    {
      "cell_type": "code",
      "execution_count": null,
      "metadata": {
        "id": "gAdnerUJOS0-",
        "outputId": "71c66304-6dbb-48fe-eea5-6e8f4c57ede3"
      },
      "outputs": [
        {
          "output_type": "stream",
          "name": "stdout",
          "text": [
            "a:\n[[0 1]\n [2 3]\n [4 5]]\n\nb:\n[[1. 1.]\n [1. 1.]\n [1. 1.]]\n\na+b:\n[[1. 2.]\n [3. 4.]\n [5. 6.]]\n\na-b:\n[[-1.  0.]\n [ 1.  2.]\n [ 3.  4.]]\n\na*b:\n[[0. 1.]\n [2. 3.]\n [4. 5.]]\n\na/b:\n[[0. 1.]\n [2. 3.]\n [4. 5.]]\n\n"
          ]
        }
      ],
      "source": [
        "# Basic operations\n",
        "a = np.arange(6).reshape((3, 2))\n",
        "b = np.ones((3, 2))\n",
        "print_obj(a, \"a\")\n",
        "print_obj(b, \"b\")\n",
        "\n",
        "# +, -, *, /\n",
        "print_obj(a+b, \"a+b\")\n",
        "print_obj(a-b, \"a-b\")\n",
        "print_obj(a*b, \"a*b\")\n",
        "print_obj(a/b, \"a/b\")"
      ]
    },
    {
      "cell_type": "code",
      "execution_count": null,
      "metadata": {
        "id": "jFJo0FNaOS0_",
        "outputId": "f1934e4c-9ee5-4415-af03-c13d6e99bdff"
      },
      "outputs": [
        {
          "output_type": "stream",
          "name": "stdout",
          "text": [
            "a:\n[[0 1]\n [2 3]\n [4 5]]\n\na.sum():\n15\n\na.sum(axis=0):\n[6 9]\n\na.sum(axis=1):\n[1 5 9]\n\na.mean():\n2.5\n\na.mean(axis=0):\n[2. 3.]\n\na.max():\n5\n\na.min():\n0\n\n46.0\n46.0\n"
          ]
        }
      ],
      "source": [
        "# Unary operations\n",
        "a = np.arange(6).reshape((3,2))\n",
        "print_obj(a, \"a\")\n",
        "\n",
        "print_obj(a.sum(), \"a.sum()\")\n",
        "print_obj(a.sum(axis=0), \"a.sum(axis=0)\")\n",
        "print_obj(a.sum(axis=1), \"a.sum(axis=1)\")\n",
        "\n",
        "print_obj(a.mean(), \"a.mean()\")\n",
        "print_obj(a.mean(axis=0), \"a.mean(axis=0)\")\n",
        "print_obj(a.max(), \"a.max()\")\n",
        "print_obj(a.min(), \"a.min()\")\n",
        "\n",
        "# Quiz: Given a = np.arange(24).reshape((2,3,4)), what is the mean of the sum w.r.t to the last dimension?\n",
        "a = np.arange(24).reshape((2,3,4))\n",
        "print(a.sum(axis=2).mean())\n",
        "#Solution\n",
        "print(np.arange(24).reshape((2,3,4)).sum(axis=-1).mean())"
      ]
    },
    {
      "cell_type": "code",
      "execution_count": null,
      "metadata": {
        "id": "CREyMruMOS1A",
        "outputId": "459f20f6-8c99-4a29-f9b4-f08611b77332"
      },
      "outputs": [
        {
          "output_type": "stream",
          "name": "stdout",
          "text": [
            "a:\n[0. 1. 2.]\n\nb:\n[1. 1. 1.]\n\na dot b:\n3.0\n\n"
          ]
        }
      ],
      "source": [
        "# Vector dot product\n",
        "a = np.arange(3).astype('float')\n",
        "b = np.ones(3)\n",
        "print_obj(a, \"a\")\n",
        "print_obj(b, \"b\")\n",
        "\n",
        "print_obj(np.dot(a, b), \"a dot b\")"
      ]
    },
    {
      "cell_type": "code",
      "execution_count": null,
      "metadata": {
        "id": "Hs9gjN1HOS1F",
        "outputId": "880eb53d-faa6-47ba-cf43-db4d3fbab2fb"
      },
      "outputs": [
        {
          "output_type": "stream",
          "name": "stdout",
          "text": [
            "a:\n[[0 1]\n [2 3]\n [4 5]]\n\nb:\n[[1. 1. 1.]\n [1. 1. 1.]]\n\na dot b:\n[[1. 1. 1.]\n [5. 5. 5.]\n [9. 9. 9.]]\n\na @ b:\n[[1. 1. 1.]\n [5. 5. 5.]\n [9. 9. 9.]]\n\n"
          ]
        }
      ],
      "source": [
        "# Matrix dot product, matrix multiplication\n",
        "a = np.arange(6).reshape((3, 2))\n",
        "b = np.ones((2, 3))\n",
        "print_obj(a, \"a\")\n",
        "print_obj(b, \"b\")\n",
        "\n",
        "print_obj(np.dot(a,b), \"a dot b\")\n",
        "print_obj(a@b, \"a @ b\") # @ is a matrix multiplication operator"
      ]
    },
    {
      "cell_type": "code",
      "execution_count": null,
      "metadata": {
        "id": "8y1DU7YEOS1G",
        "outputId": "58f80fbe-64bb-468b-8b6d-06b040f0b1ae"
      },
      "outputs": [
        {
          "output_type": "stream",
          "name": "stdout",
          "text": [
            "a:\n[[[ 0  1]\n  [ 2  3]\n  [ 4  5]]\n\n [[ 6  7]\n  [ 8  9]\n  [10 11]]\n\n [[12 13]\n  [14 15]\n  [16 17]]\n\n [[18 19]\n  [20 21]\n  [22 23]]]\n\nb:\n[[[1. 1. 1.]\n  [1. 1. 1.]]\n\n [[1. 1. 1.]\n  [1. 1. 1.]]\n\n [[1. 1. 1.]\n  [1. 1. 1.]]\n\n [[1. 1. 1.]\n  [1. 1. 1.]]]\n\na dot b:\n(4, 3, 4, 3)\n\na @ b:\n(4, 3, 3)\n\na matmul b:\n(4, 3, 3)\n\n[[[ True  True  True]\n  [ True  True  True]\n  [ True  True  True]]\n\n [[ True  True  True]\n  [ True  True  True]\n  [ True  True  True]]\n\n [[ True  True  True]\n  [ True  True  True]\n  [ True  True  True]]\n\n [[ True  True  True]\n  [ True  True  True]\n  [ True  True  True]]]\na dot b:\n(2, 4, 3, 2, 4, 3)\n\na @ b:\n(2, 4, 3, 3)\n\na matmul b:\n(2, 4, 3, 3)\n\n[[[[ True  True  True]\n   [ True  True  True]\n   [ True  True  True]]\n\n  [[ True  True  True]\n   [ True  True  True]\n   [ True  True  True]]\n\n  [[ True  True  True]\n   [ True  True  True]\n   [ True  True  True]]\n\n  [[ True  True  True]\n   [ True  True  True]\n   [ True  True  True]]]\n\n\n [[[ True  True  True]\n   [ True  True  True]\n   [ True  True  True]]\n\n  [[ True  True  True]\n   [ True  True  True]\n   [ True  True  True]]\n\n  [[ True  True  True]\n   [ True  True  True]\n   [ True  True  True]]\n\n  [[ True  True  True]\n   [ True  True  True]\n   [ True  True  True]]]]\na dot b:\n[[[  3   4   5]\n  [  9  14  19]\n  [ 15  24  33]]\n\n [[ 21  34  47]\n  [ 27  44  61]\n  [ 33  54  75]]\n\n [[ 39  64  89]\n  [ 45  74 103]\n  [ 51  84 117]]\n\n [[ 57  94 131]\n  [ 63 104 145]\n  [ 69 114 159]]]\n\na @ b:\n[[[  3   4   5]\n  [  9  14  19]\n  [ 15  24  33]]\n\n [[ 21  34  47]\n  [ 27  44  61]\n  [ 33  54  75]]\n\n [[ 39  64  89]\n  [ 45  74 103]\n  [ 51  84 117]]\n\n [[ 57  94 131]\n  [ 63 104 145]\n  [ 69 114 159]]]\n\n"
          ]
        }
      ],
      "source": [
        "# Tensor dot product, tensor multiplication\n",
        "a = np.arange(24).reshape((4, 3, 2))\n",
        "b = np.ones((4, 2, 3))\n",
        "#deep learning : a.shape[0] : batch => 4 : (3, 2) x (2, 3) => (3, 3)\n",
        "print_obj(a, \"a\")\n",
        "print_obj(b, \"b\")\n",
        "\n",
        "print_obj(np.dot(a,b).shape, \"a dot b\")\n",
        "print_obj((a@b).shape, \"a @ b\")\n",
        "print_obj(np.matmul(a,b).shape, \"a matmul b\")\n",
        "print(np.matmul(a,b) == (a@b))\n",
        "\n",
        "\n",
        "a = np.arange(2*24).reshape((2, 4, 3, 2))\n",
        "b = np.ones((2, 4, 2, 3))\n",
        "print_obj(np.dot(a,b).shape, \"a dot b\")\n",
        "print_obj((a@b).shape, \"a @ b\")\n",
        "print_obj(np.matmul(a,b).shape, \"a matmul b\")\n",
        "print(np.matmul(a,b) == (a@b))\n",
        "\n",
        "\n",
        "# Quiz: what would happen if a.shape==(4,3,2) and b.shape==(2,3)?\n",
        "#same b is calculated 4 time\n",
        "a = np.arange(24).reshape((4,3,2))\n",
        "b = np.arange(6).reshape((2,3))\n",
        "print_obj(np.dot(a,b), \"a dot b\")\n",
        "print_obj((a@b), \"a @ b\")"
      ]
    },
    {
      "cell_type": "markdown",
      "metadata": {
        "id": "rKDqnLVOOS1G"
      },
      "source": [
        "### Shape Manipulation"
      ]
    },
    {
      "cell_type": "code",
      "execution_count": null,
      "metadata": {
        "id": "6FsGN5DcOS1G",
        "outputId": "584e668b-abe7-4afe-92ec-e8974defc0b2"
      },
      "outputs": [
        {
          "output_type": "stream",
          "name": "stdout",
          "text": [
            "a:\n[[[ 0  1  2  3]\n  [ 4  5  6  7]\n  [ 8  9 10 11]]\n\n [[12 13 14 15]\n  [16 17 18 19]\n  [20 21 22 23]]]\n\nb:\n[[ 0  1  2  3]\n [ 4  5  6  7]\n [ 8  9 10 11]\n [12 13 14 15]\n [16 17 18 19]\n [20 21 22 23]]\n\nc:\n[[ 0  1  2  3]\n [ 4  5  6  7]\n [ 8  9 10 11]\n [12 13 14 15]\n [16 17 18 19]\n [20 21 22 23]]\n\nc:\n[[[ 0  1  2  3]\n  [ 4  5  6  7]]\n\n [[ 8  9 10 11]\n  [12 13 14 15]]\n\n [[16 17 18 19]\n  [20 21 22 23]]]\n\nd:\n[[[ 0]\n  [ 1]\n  [ 2]\n  [ 3]]\n\n [[ 4]\n  [ 5]\n  [ 6]\n  [ 7]]\n\n [[ 8]\n  [ 9]\n  [10]\n  [11]]\n\n [[12]\n  [13]\n  [14]\n  [15]]\n\n [[16]\n  [17]\n  [18]\n  [19]]\n\n [[20]\n  [21]\n  [22]\n  [23]]]\n\n"
          ]
        }
      ],
      "source": [
        "# Reshapes\n",
        "a = np.arange(24).reshape((2, 3, 4))\n",
        "print_obj(a, \"a\")\n",
        "\n",
        "b = a.reshape((6, 4))\n",
        "print_obj(b, \"b\")\n",
        "\n",
        "c = a.reshape((6, -1))\n",
        "print_obj(c, \"c\")\n",
        "\n",
        "c = a.reshape((3, 2, -1))\n",
        "print_obj(c, \"c\")\n",
        "\n",
        "# Quiz: What would d=a.reshape((6, 4, -1)) look like?\n",
        "d = a.reshape((6, 4, -1))\n",
        "print_obj(d, \"d\")\n"
      ]
    },
    {
      "cell_type": "code",
      "execution_count": null,
      "metadata": {
        "id": "Sf3qgTRCOS1H",
        "outputId": "6ab9f160-f126-4699-a91c-bdbd99cd6813"
      },
      "outputs": [
        {
          "output_type": "stream",
          "name": "stdout",
          "text": [
            "a:\n[0 1 2]\n\na[:, None]:\n[[0]\n [1]\n [2]]\n\na.reshape(3,1):\n[[0]\n [1]\n [2]]\n\n(3, 1, 1, 4)\n"
          ]
        }
      ],
      "source": [
        "# Adding an extra dimension\n",
        "a = np.arange(3)\n",
        "print_obj(a, \"a\")\n",
        "\n",
        "print_obj(a[:, None], \"a[:, None]\")\n",
        "\n",
        "print_obj(a.reshape(3,1), \"a.reshape(3,1)\")\n",
        "\n",
        "# Quiz: How to make a = np.ones((3,4)) into shape (3, 1, 1, 4) using reshape and None?\n",
        "a = np.ones((3,4))\n",
        "print(a[:, None, None].shape)"
      ]
    },
    {
      "cell_type": "code",
      "execution_count": null,
      "metadata": {
        "id": "8mm_-ok-OS1H",
        "outputId": "512fdb33-85d4-4fd3-cc54-9547bd189279"
      },
      "outputs": [
        {
          "output_type": "stream",
          "name": "stdout",
          "text": [
            "a:\n[[1. 1.]\n [1. 1.]\n [1. 1.]]\n\nb:\n[[0. 0.]\n [0. 0.]\n [0. 0.]]\n\na,b vstack:\n[[1. 1.]\n [1. 1.]\n [1. 1.]\n [0. 0.]\n [0. 0.]\n [0. 0.]]\n\na,b hstack:\n[[1. 1. 0. 0.]\n [1. 1. 0. 0.]\n [1. 1. 0. 0.]]\n\na,b hstack:\n[[1. 1. 0. 0. 1. 1.]\n [1. 1. 0. 0. 1. 1.]\n [1. 1. 0. 0. 1. 1.]]\n\na,b concat axis=0:\n[[1. 1.]\n [1. 1.]\n [1. 1.]\n [0. 0.]\n [0. 0.]\n [0. 0.]]\n\na,b concat axis=1:\n[[1. 1. 0. 0.]\n [1. 1. 0. 0.]\n [1. 1. 0. 0.]]\n\na, b concat axis=2:\n[[[1. 1. 0. 0.]\n  [1. 1. 0. 0.]\n  [1. 1. 0. 0.]]\n\n [[1. 1. 0. 0.]\n  [1. 1. 0. 0.]\n  [1. 1. 0. 0.]]\n\n [[1. 1. 0. 0.]\n  [1. 1. 0. 0.]\n  [1. 1. 0. 0.]]]\n\n"
          ]
        }
      ],
      "source": [
        "# Stack, concatenation\n",
        "a = np.ones((3,2))\n",
        "b = np.zeros((3,2))\n",
        "print_obj(a, \"a\")\n",
        "print_obj(b, \"b\")\n",
        "\n",
        "print_obj(np.vstack([a, b]), \"a,b vstack\")\n",
        "print_obj(np.hstack([a, b]), \"a,b hstack\")\n",
        "print_obj(np.hstack([a, b, a]), \"a,b hstack\")\n",
        "\n",
        "print_obj(np.concatenate([a, b], axis=0), \"a,b concat axis=0\")\n",
        "print_obj(np.concatenate([a, b], axis=1), \"a,b concat axis=1\")\n",
        "\n",
        "# Quiz: Would concatenating two tensors whose shapes are (4, 3, 2) and (5, 4, 2) on axis=2 work?\n",
        "# Answer : No.\n",
        "a = np.ones((3,3,2))\n",
        "b = np.zeros((3,3,2))\n",
        "print_obj(np.concatenate([a, b], axis=2), \"a, b concat axis=2\")\n",
        "# Other axis except for the specified axis must match"
      ]
    },
    {
      "cell_type": "code",
      "execution_count": null,
      "metadata": {
        "id": "HhwKuVpJOS1I",
        "outputId": "94ae6222-ab89-4ffd-864a-3b4005021fa8"
      },
      "outputs": [
        {
          "output_type": "stream",
          "name": "stdout",
          "text": [
            "a:\n[[0 1]\n [2 3]\n [4 5]]\n\na.T:\n[[0 2 4]\n [1 3 5]]\n\n"
          ]
        }
      ],
      "source": [
        "# Matrix transpose\n",
        "a = np.arange(6).reshape((3, 2))\n",
        "print_obj(a, \"a\")\n",
        "\n",
        "print_obj(a.T, \"a.T\")"
      ]
    },
    {
      "cell_type": "code",
      "execution_count": null,
      "metadata": {
        "id": "wow610BEOS1I",
        "outputId": "b6a74932-7801-4391-f31d-db8c33327048"
      },
      "outputs": [
        {
          "output_type": "stream",
          "name": "stdout",
          "text": [
            "a:\n[[[ 0  1]\n  [ 2  3]\n  [ 4  5]]\n\n [[ 6  7]\n  [ 8  9]\n  [10 11]]\n\n [[12 13]\n  [14 15]\n  [16 17]]\n\n [[18 19]\n  [20 21]\n  [22 23]]]\n\nSwap axis 1 and 2:\n[[[ 0  2  4]\n  [ 1  3  5]]\n\n [[ 6  8 10]\n  [ 7  9 11]]\n\n [[12 14 16]\n  [13 15 17]]\n\n [[18 20 22]\n  [19 21 23]]]\n\nb's shape:\n(4, 2, 3)\n\nSwap axis 0 and 1:\n[[[ 0  1]\n  [ 6  7]\n  [12 13]\n  [18 19]]\n\n [[ 2  3]\n  [ 8  9]\n  [14 15]\n  [20 21]]\n\n [[ 4  5]\n  [10 11]\n  [16 17]\n  [22 23]]]\n\nc's shape:\n(3, 4, 2)\n\n"
          ]
        }
      ],
      "source": [
        "# Tensor transpose\n",
        "a = np.arange(24).reshape((4, 3, 2))\n",
        "print_obj(a, \"a\")\n",
        "\n",
        "b = np.transpose(a, [0, 2, 1])\n",
        "print_obj(b, \"Swap axis 1 and 2\")\n",
        "print_obj(b.shape, \"b's shape\")\n",
        "\n",
        "c = np.transpose(a, [1, 0, 2])\n",
        "print_obj(c, \"Swap axis 0 and 1\")\n",
        "print_obj(c.shape, \"c's shape\")"
      ]
    },
    {
      "cell_type": "markdown",
      "metadata": {
        "id": "IIF26PTeOS1I"
      },
      "source": [
        "### Broadcasting"
      ]
    },
    {
      "cell_type": "code",
      "execution_count": null,
      "metadata": {
        "id": "e5a0XrAAOS1J",
        "outputId": "26561c1c-0e91-47fc-cf8a-696e42f1e72c"
      },
      "outputs": [
        {
          "output_type": "stream",
          "name": "stdout",
          "text": [
            "a:\n[0 1 2]\n\na+b:\n[2. 3. 4.]\n\na-b:\n[-2. -1.  0.]\n\na*b:\n[0. 2. 4.]\n\na/b:\n[0.  0.5 1. ]\n\n"
          ]
        }
      ],
      "source": [
        "# Vector and scalar\n",
        "a = np.arange(3)\n",
        "b = 2.\n",
        "print_obj(a, \"a\")\n",
        "\n",
        "print_obj(a+b, \"a+b\")\n",
        "print_obj(a-b, \"a-b\")\n",
        "print_obj(a*b, \"a*b\")\n",
        "print_obj(a/b, \"a/b\")"
      ]
    },
    {
      "cell_type": "code",
      "execution_count": null,
      "metadata": {
        "id": "uKT3rZv_OS1K",
        "outputId": "ec322e0a-6cf0-45c4-b365-8254b95fce1d"
      },
      "outputs": [
        {
          "output_type": "stream",
          "name": "stdout",
          "text": [
            "a:\n[[0 1]\n [2 3]\n [4 5]]\n\nb:\n[1 2]\n\na+b:\n[[1 3]\n [3 5]\n [5 7]]\n\na:\n[[0 1]\n [2 3]\n [4 5]]\n\nb:\n[[0 1]]\n\na+b:\n[[0 2]\n [2 4]\n [4 6]]\n\n"
          ]
        }
      ],
      "source": [
        "# Matrix and vector\n",
        "a = np.arange(6).reshape((3,2))\n",
        "b = np.arange(2).reshape(2) + 1\n",
        "print_obj(a, \"a\")\n",
        "print_obj(b, \"b\")\n",
        "\n",
        "print_obj(a+b, \"a+b\")\n",
        "\n",
        "# Quiz: What would happen if b were np.arange(2).reshape((2, 1))? How about np.arange(2).reshape((1, 2))?\n",
        "# Answer: b = np.arange(2).reshape((2, 1)) : [[0], [1]]         .reshape((1,2))[[0 1]]\n",
        "a = np.arange(6).reshape((3,2))\n",
        "b = np.arange(2).reshape((1,2))\n",
        "print_obj(a, \"a\")\n",
        "print_obj(b, \"b\")\n",
        "print_obj(a+b, \"a+b\")\n"
      ]
    },
    {
      "cell_type": "code",
      "source": [
        "a = np.arange(2)\n",
        "print(a)\n",
        "print(a.reshape(2, 1))"
      ],
      "metadata": {
        "colab": {
          "base_uri": "https://localhost:8080/"
        },
        "id": "DU6XY1OwhPVD",
        "outputId": "e9bd3487-4bf4-4434-fc41-6e8a8d474be0"
      },
      "execution_count": null,
      "outputs": [
        {
          "output_type": "stream",
          "name": "stdout",
          "text": [
            "[0 1]\n",
            "[[0]\n",
            " [1]]\n"
          ]
        }
      ]
    },
    {
      "cell_type": "code",
      "execution_count": null,
      "metadata": {
        "id": "kcCU4Qw9OS1L",
        "outputId": "0c7b2149-c583-4897-e976-689252d296c7",
        "colab": {
          "base_uri": "https://localhost:8080/"
        }
      },
      "outputs": [
        {
          "output_type": "stream",
          "name": "stdout",
          "text": [
            "a:\n",
            "[[[ 0  1]\n",
            "  [ 2  3]\n",
            "  [ 4  5]]\n",
            "\n",
            " [[ 6  7]\n",
            "  [ 8  9]\n",
            "  [10 11]]]\n",
            "\n",
            "b:\n",
            "[[0 1]\n",
            " [2 3]\n",
            " [4 5]]\n",
            "\n",
            "a+b:\n",
            "[[[ 0  2]\n",
            "  [ 4  6]\n",
            "  [ 8 10]]\n",
            "\n",
            " [[ 6  8]\n",
            "  [10 12]\n",
            "  [14 16]]]\n",
            "\n",
            "[[[ 0  2]\n",
            "  [ 4  6]\n",
            "  [ 8 10]]\n",
            "\n",
            " [[ 6  8]\n",
            "  [10 12]\n",
            "  [14 16]]]\n"
          ]
        }
      ],
      "source": [
        "# Tensor and matrix\n",
        "a = np.arange(12).reshape((2,3,2))\n",
        "b = np.arange(6).reshape((3,2))\n",
        "print_obj(a, \"a\")\n",
        "print_obj(b, \"b\")\n",
        "\n",
        "print_obj(a+b, \"a+b\")\n",
        "\n",
        "#Quiz: How can we use None to do a+b?\n",
        "#Solution\n",
        "print(a + b[None, :, :])"
      ]
    },
    {
      "cell_type": "code",
      "source": [
        " b = b[None, :, :]\n",
        " print(b)\n",
        " print(b.shape)"
      ],
      "metadata": {
        "colab": {
          "base_uri": "https://localhost:8080/"
        },
        "id": "7ufBhl-9imCw",
        "outputId": "3f78a37b-c362-435e-bb81-393167d80a33"
      },
      "execution_count": null,
      "outputs": [
        {
          "output_type": "stream",
          "name": "stdout",
          "text": [
            "[[[0 1]\n",
            "  [2 3]\n",
            "  [4 5]]]\n",
            "(1, 3, 2)\n"
          ]
        }
      ]
    },
    {
      "cell_type": "markdown",
      "metadata": {
        "id": "ganXL_tGOS1M"
      },
      "source": [
        "### Final Quiz"
      ]
    },
    {
      "cell_type": "code",
      "execution_count": null,
      "metadata": {
        "id": "0N5DT3fbOS1M"
      },
      "outputs": [],
      "source": [
        "def sigmoid(x):\n",
        "    return 1./(1. + np.exp(-x))\n",
        "#x에 matrix가 들어가도 element level 로 연산만되고 output 그대로 input과 동일한 사이즈!\n",
        "\n",
        "# Define a function that, given M of shape (m,n) and W of shape (4n, n), executes the following:\n",
        "# - Take the first half rows of M\n",
        "# - Take the second half rows of M\n",
        "# - Take the odd-numbered rows of M\n",
        "# - Take the even-numbered rows of M\n",
        "# - Append them horizontally in the listed order so that you obtain a matrix X of shape (m/2, 4n)\n",
        "# - Linearly transform X with W so that you obtain a matrix Y of shape (m/2, n)\n",
        "# - Put Y through the sigmoid function\n",
        "# - Obtain the sum of the row-wise mean\n",
        "def foo(M, W):\n",
        "  first_half_row = M[:m//2]\n",
        "  second_half_row = M[m//2:]\n",
        "  odd_num_row = M[1:m:2]\n",
        "  even_num_row = M[0:m:2]\n",
        "  X = np.concatenate([first_half_row, second_half_row, odd_num_row, even_num_row], axis=1)\n",
        "  Y = np.dot(X,W)  # Y.shape (m/2, n)\n",
        "  row_wise_mean = sigmoid(Y).mean(axis=0) \n",
        "  return np.sum(row_wise_mean)\n"
      ]
    }
  ],
  "metadata": {
    "kernelspec": {
      "display_name": "Python 3",
      "language": "python",
      "name": "python3"
    },
    "language_info": {
      "codemirror_mode": {
        "name": "ipython",
        "version": 3
      },
      "file_extension": ".py",
      "mimetype": "text/x-python",
      "name": "python",
      "nbconvert_exporter": "python",
      "pygments_lexer": "ipython3",
      "version": "3.8.5-final"
    },
    "colab": {
      "name": "ai504_01_numpy.ipynb",
      "provenance": [],
      "collapsed_sections": [
        "QhSkfsSoOS00"
      ],
      "include_colab_link": true
    }
  },
  "nbformat": 4,
  "nbformat_minor": 0
}